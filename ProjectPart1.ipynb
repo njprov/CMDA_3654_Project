{
 "cells": [
  {
   "cell_type": "code",
   "execution_count": 1,
   "metadata": {},
   "outputs": [],
   "source": [
    "import json\n",
    "import tweepy\n",
    "import pandas as pd \n",
    "import time\n",
    "\n",
    "def loadKeys(key_file):\n",
    "    with open('keys.json') as f:\n",
    "        key_dict = json.load(f)\n",
    "    return key_dict['api_key'], key_dict['api_secret'], key_dict['token'], key_dict['token_secret']\n",
    "\n",
    "KEY_FILE = 'keys.json'\n",
    "api_key, api_secret, token, token_secret = loadKeys(KEY_FILE)\n",
    "auth = tweepy.OAuthHandler(api_key, api_secret)\n",
    "auth.set_access_token(token, token_secret)\n",
    "api = tweepy.API(auth)"
   ]
  },
  {
   "cell_type": "raw",
   "metadata": {},
   "source": [
    "First save your API and secret keys credentials in a file: keys.json\n",
    "The file needs to be in correct json format given below. Validate your file format using a JSONformatter (https://jsonformatter.curiousconcept.com/). The format should be:\n",
    " \n",
    "{\n",
    "    \"api_key\":\"your api key here\" ,\n",
    "    \"api_secret\": \"your api secret here\"  ,\n",
    "    \"token\": \"your access token here\"  , \n",
    "    \"token_secret\": \"your access token secret here\" \n",
    "}"
   ]
  },
  {
   "cell_type": "code",
   "execution_count": 24,
   "metadata": {},
   "outputs": [
    {
     "output_type": "stream",
     "name": "stdout",
     "text": "User = debsontag\ndory_carrharris\njessbidgood\nColumbiaSurgery\nCOVID2019action\nhwise29\njohnwilliamsnyt\nDrEricDing\nlaurentredding\nAlexLJanin\nEbonyReed\nAnthony\nalv9n\nDeborahAcosta\nnico_gendron\ntylergabriel_\nricardo_de_anda\nbenyt\na_cormier_\nfrancescamarief\nFahrenthold\nTimOBrien\nRepAnnieKuster\nnsbarsky\nelibhager\nnewsbridge_io\nImm_Judges_NAIJ\nDavidOBowles\nlesbrains\ncsittenfeld\nValeriaLuiselli\nAgnesCallamard\nMikel_Jollett\nBurtVeronica\nEllenChaffee\nOutOfContextMID\njeffjarvis\nNYTimesAtWar\nDavidColeACLU\ntheferocity\nJohnHolbein1\nTangLATimes\nmharwood31\nPaulBMoses\npetermarksdrama\nEVincentelli\njwbens\nJenGriffinFNC\nDavidVonDrehle\nMairavZ\nYoga_Journal\nMujMash\nJonathanTurley\nchristophclarey\nGael_Monfils\nGretaThunberg\nmatt_cam\niainoverton\njaynehuckerby\nSarahKnuckey\nDeborahNArcher\nhamiltonnolan\ngreenhousenyt\ntaraemcg\nanotheracronym\nMargaretAtwood\naparnapkin\nYayImmigrants\nNYT_first_said\nAGarcia507\nmargeincharge\ngilbertcruz\naurabogado\nsepinwall\nglobaldan\nEricAsimov\nkimseverson\nTransEquality\nmirjordan\nverainstitute\nBreneBrown\nANNELAMOTT\nPoynter\nfactchecknet\npatrickgaley\nIlhanMN\nDetentionWatch\nImmDefense\nLloydEBennett\nedelman215\njonathanlambda\nS_Evangelina\nadamgoldmanNYT\nSecNielsen\nNalluPreethi\ncegoldbaum\nimmcouncil\nAsteadWesley\nkimmelman\nJeffreyToobin\nJaneMayerNYer\n818\nUser = cli6cli6\nAustinJohnPlays\nAcnhDesigns\na_zeisler\nrayalexsmith\nMultiplayerBF\nmattriva\nbourreelam\nedyong209\nWSJMag\nnico_gendron\nbijanstephen\nsheilawsj\nCorySchouten\nthebryandavis\neschow\nRobinKwong\ntknakagawa\nWSJGraphics\nWomenAtDJ\njacobwgallagher\nKaylaC\nsarahballsy\ngaryrosenWSJ\nlisabannon\neleanorehpark\nWSJheard\nWSJLife\nJasonJedlinski\nsabrinabot\nSophieWarnes\nkkjschmidt\npaulvigna\nsrussolillo\nchrisfairbanks\nKevinDubouis\nlouisestory\nbeckybowers\nChuckWendig\nblogwhatever\nkelseydangerous\ndrskyskull\nmrcwilso\nevesaysso\nAndrewYNg\nfchollet\njeffk\nTheKateMyers\nbritprawat\nAsh_Flowers\nCrimeJunkiePod\nelliekrupnick\nFunnyAsianDude\ntinymakesthings\nsailorhg\nramaworks\nkeebio\nmintlodica\nTonyPanella\nTheBloggess\nAGoldmund\nabexlumberg\nPJVogt\nlucy_gram\nCande313\nmikepriscella\nRebeccaPoulson\nStefanEtienne\nBigBoyler\nSimuLiu\nmadelinebwelsh\nAGeekwithaHat\nTrevornoah\nwangleehom\neyemadequiet\nJLeeSoc\nnicolesjchung\nreappropriate\nkaludiasays\ntaylorndean\nKariWrites\njuliachanb\nmwmoretti\njarrad_tweets\nrdmurphy\nstockinettest\nBillyjensen\nPaulHoles\nCrimeConHQ\nTiegrabberpods\nrobin_warder\nginamariepace\nDromm25\nDepressedAunty\npeep_ebooks\nStevenRayMorris\ntruecrimegarage\nforest_fr1ends\nxoxo\nmipsytipsy\nerberriez\n918\nUser = RobinKwong\nWTMMP\nSaabiraC\njohnbirdswords\nTeatroNascosto\nGeorgePitcher\nMrAndrewCotter\ntylergabriel_\nBlinkity\nrayalexsmith\nkkjschmidt\nSandraTabares\ndnvolz\nmckinleyhyden\neliotwb\nadamfc\nsaraheneedleman\nkyleykim\nRogerWallstreet\nRobGMacfarlane\nlyazel\nCrystal_Tai_\npplotes\nEllie_Austin_\nWestyhk\njarrardcole\nJosh1Rivera\nMarkDiStef\nround\n_vivngo\nitstheannmarie\nCorySchouten\nxinwenfan\nDeborahAcosta\nsheilawsj\nJasonJedlinski\nnico_gendron\nnoslouch\nkris10cabrera\nAncaTenea\ninkvo\njensmithWSJ\n_CreativeAccess\ncli6cli6\nprabhanatarajan\njjmccorvey\njohndstoll\nthisisemmazhou\nfindingannienyc\nSerenaNgWSJ\npmichelman\nsixtostart\ndebsontag\nDavidClinchNews\nMsKimberlyChin\nSebAntonioVega\ntknakagawa\nmorisy\nAAndriotis\ndscasa\nndiakopoulos\nshaneshifflett\naskParlia\nrob_barry\nprotocol\nstuartathompson\nandrewphelps\nMeeraSelva1\nmurraymatt\n_palanik\nMisterOrton\nerikholmwsj\nbradleyhope\nTomWrightAsia\nPaulHannon29\nOnOurRadar\nsigmaawards\nWomenAtDJ\ngeorgikantchev\namanda_lewellyn\nTravelingAnna\nmaureenlinke\ndaphnekylee\nWhimsicaLinds\nstephaaronson\nAllisonPohle\nJamesHookway\nmonosynth\naustenhufford\nsestamm\nJ_A_Hudson\nRealGoodCenter\nEmilyGlazer\nthrustlondon\nIfYouWillem\nrachael_levy\nBenMullin\nCaroEThompson\nleelonghui\nTimJHanrahan\nsmiler29\n1018\nUser = cbadalamente\nRate limit hit\n1018\nUser = adamwitwer\nDrDenaGrayson\nverainstitute\nMrAndrewCotter\nyashar\nlinseymarr\nScottGottliebMD\nKizzyPhD\nCOVID19Tracking\nASlavitt\nDCist\nchefjoseandres\nkatieporteroc\nYamiche\nclarissaward\ntomaspueyo\njelani9\nEricaJoy\nnathanattrill\nchr1sa\nNAChristakis\nrobinhanson\nrodrigorpaz\nmikeindustries\nanchorlines\nBerniceKing\nrcbregman\nSJWeymouth\n_SJPeace_\nattackerman\nBadAstronomer\nEl_Lobo_Rayado\nw0a0i0f\nmekkaokereke\ntobi\nInertialObservr\nnkjemisin\nkatherineykwu\nMelMilloway\nDrPoorman\nLHissrich\naidachavez\niam_preethi\nhollyotterbein\nanotheracronym\nFastCompany\nBreeNewsome\nctrlshifti\nminakimes\nKremlinAnnex\nmichaelharriot\nKeziyahL\ntechgirl1908\nMinaMarkham\nRepRaskin\nJuddLegum\npoppy_northcutt\nSaraGideon\nkartar\nrgay\nTatianaTMac\nnwilliams030\nIlhan\nIlhanMN\nWNBANationPod\nkatiehempenius\n_waleedshahid\nTheAtlantic\nTheWinsidr\nPeteButtigieg\nAndrewYang\nnataliesurely\nHighPostHoops\nSenWarren\nAyannaPressley\nAndreaChalupa\nRepPressley\nAlexMLeo\ndesignsystemsin\nSashaLaundy\ndavidingolcar\nLiamDoyleNBA\nBetoORourke\nLibrariAint\nkaraswisher\ncraigellis1\nkrmaher\nAndrewGillum\nnatalieweiner\necambage\nrsg\npocketfullofme\nSydneyAzari\nAdamParkhomenko\nbenthompson\nRonanFarrow\nMegMcCloskey\nsaladinahmed\npeterdaou\nYoungBullGoods\nDavidCayJ\n1118\nUser = LEEBEY\nKFaulders\nConnellybooks\nericd1112\nMichelleBernard\nlosmond\nRealBillySims\nArionneNettles\nchristianlane01\nDonnaBPierce\nLeighGiangreco\nAnita_Sarah\nASlavitt\nUIC_UPP\njon425\nLyonGabrielle\nuicdpa\nUICGCI\nhands83\nlarainenewman\nCIAspygirl\nTara_Windwalker\nnminow\nbmarsalis\nmoconnor51\nelliofeliciano\nsarahanneconway\nthesherylralph\ntomhanks\ntnoland1\nWoodsFundChi\nMaggieDaleyPark\nelevated_chi\nTomSchuba\nkimpagenevels\nmaridapr\nafrodip\ngraciela_606\njessiefdukes\nOl_TimeFootball\nPhilipCovin\nlalahhathaway\nTomPelphrey\nnytimes\nchicagotribune\nWGNTV\nABC7Chicago\ncbschicago\nCharlesMcNulty\nAnnieCostabile\nsamjcharles\nlawcrimenews\ncljmitchell\nanacaprana\nRBReich\nkleascott\nCSTeditorials\nHavenlust\nIL_Natl_Guard\ngreenreaper\nWuTangClan\nKimFoxxforSA\nGovPritzker\nbroadwaychicago\nPalmerReport\nHeatherCherone\nCTULocal1\nrickspringfield\nrichardmarx\nGlenn220\nKamalaHarris\nMaiReports\nchicago\nnlnchgo\nCharliemagne\ncarolinehurls\ngreenfieldjohn\nAshlee_Rezin\nTiffboone\nLyndab08\nSOM_Design\nsarahbrune4\nNarcosNetflix\nuncpressblog\nmdoukmas\nHipHopArch\nannaleighclark\nBoogalooshrimp_\nmerwithani\nleilawills_\nvxflores\nMcraeLynnette\nBebeNeuwirth\nWorldBizChicago\n99piorg\nMarlenGarcia777\nBrooksScarpa\nMichaelsteinNy\nHugoBalta\nRobertHerguth\nEAlexTheGreat\n1218\nUser = FairfaxCountyPD\nLoudounSheriff\nGregoryFried412\nGolfFairfax\nFairfaxCityPD\nTwitterSupport\nTwitterBusiness\nTwitterMedia\nggwash\nLawrenceKS_PD\nSanJosePD\nChicago_Police\nRiversidePolice\nCSPDPIO\nfortworthpd\nColumbusPolice\nTucson_Police\nPhoenixPolice\nCorpusChristiPD\nFremontPD\nSacPolice\nOmahaPolice\nSLMPD\ndetroitpolice\nhonolulupolice\nSFPD\nTampaPD\nArlingtonPD\nJSOPIO\nkcpolice\nPortlandPolice\nsungazettenews\nTownofViennaVA\nWolfTrap_Edu\nWolf_Trap\nSHAREMcLean\nmcleanvacenter\nMcLeanConnect\nLortonAction\nherndonparks\nHerndonConnect\nTysonsVA\nVivaTysonsMag\nTysonsGalleria\nShopTysons\ntysonspartners\nFAMILYMagDC\nWashingtonLife\nFairfaxVANews\nVolunteerFFX\nfairfaxlibrary\nwashingtonian\nWestFallsChurch\nFallsChurchTmes\nfallschurch\nfcnp\nFallsChurchGov\nRestonRCC\nRestonDotCom\nReston_Hospital\nRestonOnline\nReston2020\nReston_Station\nRestonTwnCenter\nVisitFairfax\nfoha_va\nthevirginiadog\nbestfriends\nK9Magazine\nAW_magazine\nWholeDogJournal\ndogster\nThe_Bark\nModernDogMag\nNOVADogMag\nVirginiaBiz\ncoastalvamag\nscottbrodbeck\nTravelVirginia\nVisitVirginia\nVirginiaLiving\nNorthernVAMag\nInsideNoVA\nLAPDHQ\nffxpublicworks\nInovaFFXTrauma1\nMarkWarner\ntimkaine\nFairfaxJustin\nMayorLisaMerkel\nJeffreyCMcKay\nAGMarkHerring\nLGJustinFairfax\nRalphNortham\nRepDonBeyer\nfairfaxHHS\nForFairfax\nFortHuntHerald\nTysonsReporter\nroute1corridor\nDrewWilderTV\n1318\nUser = rajivpant\nRate limit hit\n1318\nUser = JennieBaird\nCataline\nJoeBiden\nolivierlefloch\nAndreaFink19\nJasonJedlinski\nJocelynCoaching\nsammiejory\nilikepictures\nrealstephanieho\nrozzy\ntomgara\nanitafhamilton\nniallfirth\nbilalr\nknowknewz\nrebeccamakkai\nayeletw\nJillOberlander\nmirajacob\nloreleiohs\nCThompsonATL\nAmandaMalia\ndeclare_co\nMarinaLevine\nAmazonreMARS\nBillPosley\nlmillstein\nrajivpant\ngwchsentinel\nGreenwichCTOFS\nambermac\nJayRosenzweig\nTalkBoutiqueInc\nmeskers4gwich\nCLLAWRENCE\nMandiEvents\ncampbellkate\njannahbabasa\nwib_world\nmarriottdwntown\njodilynnkovitz\njoinmovethedial\nCTHouseDems\nCTSenateDems\nCTDems\nMetroNorth\nEmma4Change\nalwayssaythnks\nGreenwich_Dems\nprnaylor\nGHSPTA\nnewworldsbot\nsmartnews\nnycwomensmarch\nthelist\nlsjamison\nDougJones\ndadapalooza\namy_carleton\nmarysauer\nCoryTV\nJeffreyBlitz\njanegreenway\nGWCHFreePress\nsweetdefeat\nAndrewWinston\nRaR\nGretchenCarlson\nBBCPolitics\nGdnPolitics\nguardianopinion\ngalen_emery\nndachos\nJillGildeaPCSD\nCatalystSEM\neccotter\nsomeecards\nPeterRivera\njulia_strayer\nloebnyc\nGPSDistrict\nkimeves24\nSwiftHolden\nLauraErickson\nTeresaGinsberg\nTardigradist\nmattfish\nDeanBuono\naileenlee\nJoyKimMetalios\nidoleffler\nChrissyLessey\nAyadeLeon\nEstherK\nGreenwichCTPD\nheratylaw\nKenBorsuk1\nTheValerieJune\nFarimaAlavi\nMsMaureenDennis\n1418\nUser = rosannahkrb\nprofvrr\nmichaelmina_lab\nDrNancyM_CDC\nflorian_krammer\nashishkjha\nSueDHellmann\nBogochIsaac\nRobertIger\narctictony\nChelseaClinton\nMonicaLewinsky\nzephoria\nlaurahazardowen\ngraceann\ncarlazanoni\nQuickTake\nrobenkleene\nrajivpant\njordansudy\nGeraldFSeib\nTimJHanrahan\nHillaryClinton\nOprah\nBarackObama\nastroteller\nchrislhayes\nBencjacobs\nphilizzo\nRoyWilhelm\nDeCampBusLines\njayrosen_nyu\nBAG_DocFilm\nbaristanet\nmadepublishers\nHaileyErin\nDigiday\nmsh200\nrobdelaney\naudible_com\nbarbarachai\nmims\nDbernard\nPeggynoonannyc\nComfortablySmug\ndanielas_bot\nVanneckKatie\nIvankaTrump\nemersongreg\nCaitlyn_Jenner\nrealDonaldTrump\nLouiseMensch\nche_douglas\njbenton\nNiemanLab\nmyanrcgarry\nAmandaWalks\nhimeshp\nJasonRaznick\nkdoctor\nmikemillerwsj\nalmarlatour\ngerardtbaker\nNravitz\nWilliamLewis\ndannysullivan\nElanaMD\nstevewoz\ntim_cook\nianrosen\nfmanjoo\njkrim\nGuyKawasaki\ngaryvee\njakeludington\nlenadunham\nKellyELeach\nlieselK\nmurraymatt\nWSJChandelier\nmarcialarson\npplumeri\nItjverschuren\nmfrooney\ntradav\nAnnaSedgley\nmeredithlubitz\nwillbergmann\npriyanallan\nimranraja75\nAlisa_redux\nr2000c\nbabuehler\nAltafRupani\ngongzyuu\nvjchin\npaulakeve\nrezaaslan\njonathanglick\nkaraswisher\nWSJspeakeasy\n1518\nUser = murraymatt\nsee_kim_see\nSirPatStew\nmattbemer\nDecisionDeskHQ\ncarolynryan\nECDC_EU\nHuXijin_GT\nnilslofgren\nbuzzfeedben\npoliticalmath\nDhar00Rahul\nStevieVanZandt\nSteveKornacki\nkathleencarrll\nkhalafroula\nClaremontInst\niyad_elbaghdadi\nwesyang\nkatrosenfield\nHGAFilms\nshah_parth_\nGerardAraud\nconorskelding\nkittypurrzog\nkmanguward\nTimAlberta\nthedailyshot\nkmele\nbriannajoyt_\nOyin_Adedoyin_\nBillCallaman\nlewiswake\nBadFilmTakes\nmckaycoppins\nChris_arnade\nsamdolnick\nmjs_DC\nJonHaidt\nYascha_Mounk\njessesingal\nsarafischer\nTheLloydGrove\nseanmdav\nlachlan\nJoshMankiewicz\ntonywendice1954\nRandyNewman\ncrsmith167\nUrbanAchievr\nalexhuds\nmcmoynihan\nMattWalshBlog\nAbeGreenwald\npaulscheer\nnathanwpyle\nPFTompkins\nFrEdwardBeck\nSallyBuzbee\nDAMendelsohnNYC\nMcCormickProf\nccpecknold\nraju\nLukeEpplin\nmatthewschmitz\npatrickhealynyt\nmariaressa\nAlxThomp\nFraserNelson\nAOC\njamespoulos\nTerryTeachout1\nclairlemon\njohnlegend\nchrissyteigen\nminjinlee11\nTaylorLorenz\nOddPittsburgh\nTPCarney\nelonmusk\ndannysullivan\nmaddow\npetridishes\ntedgioia\nRevkin\nsree\nCGrantWSJ\nredsteeze\nPollsAndVotes\nexjon\nbaseballcrank\nnickgillespie\nChuckRossDC\nMattiFriedman\nebruenig\ntrumwill\nDJWindows98\nniubi\nDavidAFrench\nAdrienneLaF\ncontinetti\n1618\nUser = raminbeheshti1\nRate limit hit\n"
    },
    {
     "output_type": "error",
     "ename": "KeyboardInterrupt",
     "evalue": "",
     "traceback": [
      "\u001b[0;31m---------------------------------------------------------------------------\u001b[0m",
      "\u001b[0;31mRateLimitError\u001b[0m                            Traceback (most recent call last)",
      "\u001b[0;32m<timed exec>\u001b[0m in \u001b[0;36mgetFollowing\u001b[0;34m(api, root_user, no_of_following)\u001b[0m\n",
      "\u001b[0;32m/Applications/anaconda3/lib/python3.7/site-packages/tweepy/cursor.py\u001b[0m in \u001b[0;36m__next__\u001b[0;34m(self)\u001b[0m\n\u001b[1;32m     46\u001b[0m     \u001b[0;32mdef\u001b[0m \u001b[0m__next__\u001b[0m\u001b[0;34m(\u001b[0m\u001b[0mself\u001b[0m\u001b[0;34m)\u001b[0m\u001b[0;34m:\u001b[0m\u001b[0;34m\u001b[0m\u001b[0;34m\u001b[0m\u001b[0m\n\u001b[0;32m---> 47\u001b[0;31m         \u001b[0;32mreturn\u001b[0m \u001b[0mself\u001b[0m\u001b[0;34m.\u001b[0m\u001b[0mnext\u001b[0m\u001b[0;34m(\u001b[0m\u001b[0;34m)\u001b[0m\u001b[0;34m\u001b[0m\u001b[0;34m\u001b[0m\u001b[0m\n\u001b[0m\u001b[1;32m     48\u001b[0m \u001b[0;34m\u001b[0m\u001b[0m\n",
      "\u001b[0;32m/Applications/anaconda3/lib/python3.7/site-packages/tweepy/cursor.py\u001b[0m in \u001b[0;36mnext\u001b[0;34m(self)\u001b[0m\n\u001b[1;32m    194\u001b[0m             \u001b[0;31m# Reached end of current page, get the next page...\u001b[0m\u001b[0;34m\u001b[0m\u001b[0;34m\u001b[0m\u001b[0;34m\u001b[0m\u001b[0m\n\u001b[0;32m--> 195\u001b[0;31m             \u001b[0mself\u001b[0m\u001b[0;34m.\u001b[0m\u001b[0mcurrent_page\u001b[0m \u001b[0;34m=\u001b[0m \u001b[0mself\u001b[0m\u001b[0;34m.\u001b[0m\u001b[0mpage_iterator\u001b[0m\u001b[0;34m.\u001b[0m\u001b[0mnext\u001b[0m\u001b[0;34m(\u001b[0m\u001b[0;34m)\u001b[0m\u001b[0;34m\u001b[0m\u001b[0;34m\u001b[0m\u001b[0m\n\u001b[0m\u001b[1;32m    196\u001b[0m             \u001b[0mself\u001b[0m\u001b[0;34m.\u001b[0m\u001b[0mpage_index\u001b[0m \u001b[0;34m=\u001b[0m \u001b[0;34m-\u001b[0m\u001b[0;36m1\u001b[0m\u001b[0;34m\u001b[0m\u001b[0;34m\u001b[0m\u001b[0m\n",
      "\u001b[0;32m/Applications/anaconda3/lib/python3.7/site-packages/tweepy/cursor.py\u001b[0m in \u001b[0;36mnext\u001b[0;34m(self)\u001b[0m\n\u001b[1;32m     72\u001b[0m                                     \u001b[0;34m*\u001b[0m\u001b[0mself\u001b[0m\u001b[0;34m.\u001b[0m\u001b[0margs\u001b[0m\u001b[0;34m,\u001b[0m\u001b[0;34m\u001b[0m\u001b[0;34m\u001b[0m\u001b[0m\n\u001b[0;32m---> 73\u001b[0;31m                                     **self.kargs)\n\u001b[0m\u001b[1;32m     74\u001b[0m         \u001b[0mself\u001b[0m\u001b[0;34m.\u001b[0m\u001b[0mprev_cursor\u001b[0m\u001b[0;34m,\u001b[0m \u001b[0mself\u001b[0m\u001b[0;34m.\u001b[0m\u001b[0mnext_cursor\u001b[0m \u001b[0;34m=\u001b[0m \u001b[0mcursors\u001b[0m\u001b[0;34m\u001b[0m\u001b[0;34m\u001b[0m\u001b[0m\n",
      "\u001b[0;32m/Applications/anaconda3/lib/python3.7/site-packages/tweepy/binder.py\u001b[0m in \u001b[0;36m_call\u001b[0;34m(*args, **kwargs)\u001b[0m\n\u001b[1;32m    249\u001b[0m             \u001b[0;32melse\u001b[0m\u001b[0;34m:\u001b[0m\u001b[0;34m\u001b[0m\u001b[0;34m\u001b[0m\u001b[0m\n\u001b[0;32m--> 250\u001b[0;31m                 \u001b[0;32mreturn\u001b[0m \u001b[0mmethod\u001b[0m\u001b[0;34m.\u001b[0m\u001b[0mexecute\u001b[0m\u001b[0;34m(\u001b[0m\u001b[0;34m)\u001b[0m\u001b[0;34m\u001b[0m\u001b[0;34m\u001b[0m\u001b[0m\n\u001b[0m\u001b[1;32m    251\u001b[0m         \u001b[0;32mfinally\u001b[0m\u001b[0;34m:\u001b[0m\u001b[0;34m\u001b[0m\u001b[0;34m\u001b[0m\u001b[0m\n",
      "\u001b[0;32m/Applications/anaconda3/lib/python3.7/site-packages/tweepy/binder.py\u001b[0m in \u001b[0;36mexecute\u001b[0;34m(self)\u001b[0m\n\u001b[1;32m    230\u001b[0m                 \u001b[0;32mif\u001b[0m \u001b[0mis_rate_limit_error_message\u001b[0m\u001b[0;34m(\u001b[0m\u001b[0merror_msg\u001b[0m\u001b[0;34m)\u001b[0m\u001b[0;34m:\u001b[0m\u001b[0;34m\u001b[0m\u001b[0;34m\u001b[0m\u001b[0m\n\u001b[0;32m--> 231\u001b[0;31m                     \u001b[0;32mraise\u001b[0m \u001b[0mRateLimitError\u001b[0m\u001b[0;34m(\u001b[0m\u001b[0merror_msg\u001b[0m\u001b[0;34m,\u001b[0m \u001b[0mresp\u001b[0m\u001b[0;34m)\u001b[0m\u001b[0;34m\u001b[0m\u001b[0;34m\u001b[0m\u001b[0m\n\u001b[0m\u001b[1;32m    232\u001b[0m                 \u001b[0;32melse\u001b[0m\u001b[0;34m:\u001b[0m\u001b[0;34m\u001b[0m\u001b[0;34m\u001b[0m\u001b[0m\n",
      "\u001b[0;31mRateLimitError\u001b[0m: [{'message': 'Rate limit exceeded', 'code': 88}]",
      "\nDuring handling of the above exception, another exception occurred:\n",
      "\u001b[0;31mKeyboardInterrupt\u001b[0m                         Traceback (most recent call last)",
      "\u001b[0;32m<timed exec>\u001b[0m in \u001b[0;36m<module>\u001b[0;34m\u001b[0m\n",
      "\u001b[0;32m<timed exec>\u001b[0m in \u001b[0;36mgetFollowing\u001b[0;34m(api, root_user, no_of_following)\u001b[0m\n",
      "\u001b[0;31mKeyboardInterrupt\u001b[0m: "
     ]
    }
   ],
   "source": [
    "%%time\n",
    "#all_connections = pd.DataFrame()\n",
    "n = 1\n",
    "all_connections = pd.read_csv('Connections_2.csv', usecols=[1,2])\n",
    "\n",
    "SLEEP_TIME = 60 * 15\n",
    "def getFollowing(api, root_user, no_of_following):\n",
    "    primary_following = []\n",
    "    try:\n",
    "        for user in tweepy.Cursor(api.friends, screen_name = root_user).items(no_of_following):\n",
    "            print(user.screen_name)\n",
    "            primary_following.append((root_user, user.screen_name))\n",
    "\n",
    "    except tweepy.RateLimitError:\n",
    "        print('Rate limit hit')\n",
    "        time.sleep(SLEEP_TIME)\n",
    "\n",
    "    return primary_following\n",
    "\n",
    "while len(all_connections.index) < 5000:\n",
    "    if n == 0:\n",
    "        user = 'WSJ'\n",
    "    else:\n",
    "        user = all_connections[~all_connections.iloc[:,1].isin(all_connections.iloc[:,0])].iloc[:,1].unique()[n]\n",
    "        print('User = {}'.format(user))\n",
    "\n",
    "    current_following = getFollowing(api, user, 100)\n",
    "    n+=1\n",
    "    \n",
    "    all_connections = all_connections.append(current_following, ignore_index=True)\n",
    "    right = all_connections[pd.isna(all_connections.iloc[:,0])]\n",
    "    left = all_connections[pd.isna(all_connections.iloc[:,2])]\n",
    "    new_cols = {x: y for x, y in zip(right.iloc[:, 2:].columns, left.iloc[:, 0:2].columns)}\n",
    "    all_connections = left.iloc[:, 0:2].append(right.iloc[:, 2:].rename(columns=new_cols))\n",
    "\n",
    "    print(len(all_connections.index))\n",
    "\n",
    "all_connections.to_csv('Connections_3.csv')"
   ]
  },
  {
   "cell_type": "code",
   "execution_count": null,
   "metadata": {},
   "outputs": [],
   "source": []
  }
 ],
 "metadata": {
  "hide_input": false,
  "kernelspec": {
   "display_name": "Python 3",
   "language": "python",
   "name": "python3"
  },
  "language_info": {
   "codemirror_mode": {
    "name": "ipython",
    "version": 3
   },
   "file_extension": ".py",
   "mimetype": "text/x-python",
   "name": "python",
   "nbconvert_exporter": "python",
   "pygments_lexer": "ipython3",
   "version": "3.7.6-final"
  }
 },
 "nbformat": 4,
 "nbformat_minor": 2
}